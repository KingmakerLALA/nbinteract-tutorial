# Estatuto break
grade = 0
promedio = 0
i = 0
while i < 10:
    grade_txt = input('Dame una calificación o un número negativo para terminar')
    grade = float(grade_txt)
    print(grade)
    if grade < 0:
        break
    promedio = promedio + grade
    i = i + 1

print('Primera línea fuera del while')
promedio = promedio = i;
print('El promedio es:', promedio)
