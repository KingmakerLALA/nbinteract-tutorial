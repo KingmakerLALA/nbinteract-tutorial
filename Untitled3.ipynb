{
  "nbformat": 4,
  "nbformat_minor": 0,
  "metadata": {
    "colab": {
      "name": "Untitled3.ipynb",
      "provenance": [],
      "authorship_tag": "ABX9TyN1sEQM4+qgAzahTSAc8y25",
      "include_colab_link": true
    },
    "kernelspec": {
      "name": "python3",
      "display_name": "Python 3"
    },
    "language_info": {
      "name": "python"
    }
  },
  "cells": [
    {
      "cell_type": "markdown",
      "metadata": {
        "id": "view-in-github",
        "colab_type": "text"
      },
      "source": [
        "<a href=\"https://colab.research.google.com/github/KingmakerLALA/nbinteract-tutorial/blob/main/Untitled3.ipynb\" target=\"_parent\"><img src=\"https://colab.research.google.com/assets/colab-badge.svg\" alt=\"Open In Colab\"/></a>"
      ]
    },
    {
      "cell_type": "code",
      "metadata": {
        "colab": {
          "base_uri": "https://localhost:8080/"
        },
        "id": "pxsJ21VLOwJE",
        "outputId": "301dc0e0-47a2-4387-f486-9cf8804ea2e1"
      },
      "source": [
        "# Estatuto break\n",
        "grade = 0\n",
        "promedio = 0\n",
        "i = 0\n",
        "while i < 10:\n",
        "    grade_txt = input('Dame una calificación o un número negativo para terminar')\n",
        "    grade = float(grade_txt)\n",
        "    print(grade)\n",
        "    if grade < 0:\n",
        "        break\n",
        "    promedio = promedio + grade\n",
        "    i = i + 1\n",
        "\n",
        "print('Primera línea fuera del while')\n",
        "promedio = promedio = i;\n",
        "print('El promedio es:', promedio)"
      ],
      "execution_count": null,
      "outputs": [
        {
          "output_type": "stream",
          "text": [
            "Dame una calificación o un número negativo para terminar5\n",
            "5.0\n"
          ],
          "name": "stdout"
        }
      ]
    }
  ]
}